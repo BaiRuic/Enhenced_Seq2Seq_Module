{
 "cells": [
  {
   "cell_type": "markdown",
   "metadata": {},
   "source": [
    "# 对原始数据集进行预处理\n",
    "首先将原始数据集csv文件的首列索引设置为datatime，然后将各个国家的负载、温度和风速相关的数据分开，依次生成以下五个国家的数据集：\n",
    "+ 澳大利亚数据集 AT_data.csv\n",
    "+ 瑞士数据集 CH_data.csv\n",
    "+ 德国数据集 DE_data.csv\n",
    "+ 荷兰数据集 NL_data.csv\n",
    "+ 波兰数据集 PL_data.csv\n",
    "\n",
    "预处理之后每个国家的数据集包括 首列索引，第二列负载数据，第三列温度、第四列风速，其中：\n"
   ]
  },
  {
   "cell_type": "code",
   "execution_count": 1,
   "metadata": {},
   "outputs": [],
   "source": [
    "import pandas as pd\n",
    "import numpy as np\n",
    "import os\n",
    "import random\n",
    "import datetime as dt\n",
    "import matplotlib as mpl\n",
    "\n",
    "mpl.rcParams['font.sans-serif'] = ['KaiTi']\n",
    "mpl.rcParams['font.serif'] = ['KaiTi']\n",
    "mpl.rcParams['axes.unicode_minus'] = False # 解决保存图像是负号'-'显示为方块的问题,或者转换负号为字符串\n",
    "data_path = os.getcwd() + \"/raw_data\""
   ]
  },
  {
   "cell_type": "code",
   "execution_count": 2,
   "metadata": {},
   "outputs": [],
   "source": [
    "# 读取原始数据\n",
    "load_data = pd.read_csv(data_path + \"/load.csv\")\n",
    "weather_data = pd.read_csv(data_path + \"/weather.csv\")"
   ]
  },
  {
   "cell_type": "code",
   "execution_count": 3,
   "metadata": {},
   "outputs": [
    {
     "data": {
      "text/html": [
       "<div>\n",
       "<style scoped>\n",
       "    .dataframe tbody tr th:only-of-type {\n",
       "        vertical-align: middle;\n",
       "    }\n",
       "\n",
       "    .dataframe tbody tr th {\n",
       "        vertical-align: top;\n",
       "    }\n",
       "\n",
       "    .dataframe thead th {\n",
       "        text-align: right;\n",
       "    }\n",
       "</style>\n",
       "<table border=\"1\" class=\"dataframe\">\n",
       "  <thead>\n",
       "    <tr style=\"text-align: right;\">\n",
       "      <th></th>\n",
       "      <th>time</th>\n",
       "      <th>AT</th>\n",
       "      <th>CH</th>\n",
       "      <th>DE</th>\n",
       "      <th>IT</th>\n",
       "      <th>NL</th>\n",
       "      <th>PL</th>\n",
       "    </tr>\n",
       "  </thead>\n",
       "  <tbody>\n",
       "    <tr>\n",
       "      <th>0</th>\n",
       "      <td>2008-01-01T00:00:00Z</td>\n",
       "      <td>6080.0</td>\n",
       "      <td>6668.0</td>\n",
       "      <td>50115.38462</td>\n",
       "      <td>25631.0</td>\n",
       "      <td>11072.0</td>\n",
       "      <td>14003.0</td>\n",
       "    </tr>\n",
       "    <tr>\n",
       "      <th>1</th>\n",
       "      <td>2008-01-01T01:00:00Z</td>\n",
       "      <td>5822.0</td>\n",
       "      <td>6463.0</td>\n",
       "      <td>48023.07692</td>\n",
       "      <td>24321.0</td>\n",
       "      <td>10437.0</td>\n",
       "      <td>13317.0</td>\n",
       "    </tr>\n",
       "    <tr>\n",
       "      <th>2</th>\n",
       "      <td>2008-01-01T02:00:00Z</td>\n",
       "      <td>5436.0</td>\n",
       "      <td>6305.0</td>\n",
       "      <td>46171.42857</td>\n",
       "      <td>23448.0</td>\n",
       "      <td>9920.0</td>\n",
       "      <td>12830.0</td>\n",
       "    </tr>\n",
       "    <tr>\n",
       "      <th>3</th>\n",
       "      <td>2008-01-01T03:00:00Z</td>\n",
       "      <td>5253.0</td>\n",
       "      <td>6102.0</td>\n",
       "      <td>44921.97802</td>\n",
       "      <td>23151.0</td>\n",
       "      <td>9558.0</td>\n",
       "      <td>12614.0</td>\n",
       "    </tr>\n",
       "    <tr>\n",
       "      <th>4</th>\n",
       "      <td>2008-01-01T04:00:00Z</td>\n",
       "      <td>5260.0</td>\n",
       "      <td>5977.0</td>\n",
       "      <td>43168.13187</td>\n",
       "      <td>23522.0</td>\n",
       "      <td>9428.0</td>\n",
       "      <td>12417.0</td>\n",
       "    </tr>\n",
       "  </tbody>\n",
       "</table>\n",
       "</div>"
      ],
      "text/plain": [
       "                   time      AT      CH           DE       IT       NL  \\\n",
       "0  2008-01-01T00:00:00Z  6080.0  6668.0  50115.38462  25631.0  11072.0   \n",
       "1  2008-01-01T01:00:00Z  5822.0  6463.0  48023.07692  24321.0  10437.0   \n",
       "2  2008-01-01T02:00:00Z  5436.0  6305.0  46171.42857  23448.0   9920.0   \n",
       "3  2008-01-01T03:00:00Z  5253.0  6102.0  44921.97802  23151.0   9558.0   \n",
       "4  2008-01-01T04:00:00Z  5260.0  5977.0  43168.13187  23522.0   9428.0   \n",
       "\n",
       "        PL  \n",
       "0  14003.0  \n",
       "1  13317.0  \n",
       "2  12830.0  \n",
       "3  12614.0  \n",
       "4  12417.0  "
      ]
     },
     "execution_count": 3,
     "metadata": {},
     "output_type": "execute_result"
    }
   ],
   "source": [
    "load_data.head()"
   ]
  },
  {
   "cell_type": "code",
   "execution_count": 4,
   "metadata": {},
   "outputs": [
    {
     "data": {
      "text/html": [
       "<div>\n",
       "<style scoped>\n",
       "    .dataframe tbody tr th:only-of-type {\n",
       "        vertical-align: middle;\n",
       "    }\n",
       "\n",
       "    .dataframe tbody tr th {\n",
       "        vertical-align: top;\n",
       "    }\n",
       "\n",
       "    .dataframe thead th {\n",
       "        text-align: right;\n",
       "    }\n",
       "</style>\n",
       "<table border=\"1\" class=\"dataframe\">\n",
       "  <thead>\n",
       "    <tr style=\"text-align: right;\">\n",
       "      <th></th>\n",
       "      <th>time</th>\n",
       "      <th>AT_windspeed</th>\n",
       "      <th>AT_temperature</th>\n",
       "      <th>CH_windspeed</th>\n",
       "      <th>CH_temperature</th>\n",
       "      <th>DE_windspeed</th>\n",
       "      <th>DE_temperature</th>\n",
       "      <th>NL_windspeed</th>\n",
       "      <th>NL_temperature</th>\n",
       "      <th>PL_windspeed</th>\n",
       "      <th>PL_temperature</th>\n",
       "    </tr>\n",
       "  </thead>\n",
       "  <tbody>\n",
       "    <tr>\n",
       "      <th>0</th>\n",
       "      <td>2008-01-01T00:00:00Z</td>\n",
       "      <td>2.71</td>\n",
       "      <td>-5.437</td>\n",
       "      <td>1.93</td>\n",
       "      <td>-5.786</td>\n",
       "      <td>2.022659</td>\n",
       "      <td>-0.935</td>\n",
       "      <td>1.78</td>\n",
       "      <td>2.603</td>\n",
       "      <td>2.27</td>\n",
       "      <td>-3.147</td>\n",
       "    </tr>\n",
       "    <tr>\n",
       "      <th>1</th>\n",
       "      <td>2008-01-01T01:00:00Z</td>\n",
       "      <td>2.72</td>\n",
       "      <td>-5.631</td>\n",
       "      <td>1.96</td>\n",
       "      <td>-6.052</td>\n",
       "      <td>1.932107</td>\n",
       "      <td>-1.033</td>\n",
       "      <td>1.94</td>\n",
       "      <td>2.495</td>\n",
       "      <td>2.21</td>\n",
       "      <td>-3.236</td>\n",
       "    </tr>\n",
       "    <tr>\n",
       "      <th>2</th>\n",
       "      <td>2008-01-01T02:00:00Z</td>\n",
       "      <td>2.69</td>\n",
       "      <td>-5.799</td>\n",
       "      <td>1.94</td>\n",
       "      <td>-6.190</td>\n",
       "      <td>1.888118</td>\n",
       "      <td>-1.126</td>\n",
       "      <td>2.21</td>\n",
       "      <td>2.351</td>\n",
       "      <td>2.16</td>\n",
       "      <td>-3.330</td>\n",
       "    </tr>\n",
       "    <tr>\n",
       "      <th>3</th>\n",
       "      <td>2008-01-01T03:00:00Z</td>\n",
       "      <td>2.67</td>\n",
       "      <td>-5.931</td>\n",
       "      <td>1.99</td>\n",
       "      <td>-6.395</td>\n",
       "      <td>1.889439</td>\n",
       "      <td>-1.255</td>\n",
       "      <td>2.44</td>\n",
       "      <td>2.204</td>\n",
       "      <td>2.12</td>\n",
       "      <td>-3.430</td>\n",
       "    </tr>\n",
       "    <tr>\n",
       "      <th>4</th>\n",
       "      <td>2008-01-01T04:00:00Z</td>\n",
       "      <td>2.61</td>\n",
       "      <td>-6.110</td>\n",
       "      <td>2.04</td>\n",
       "      <td>-6.636</td>\n",
       "      <td>1.879193</td>\n",
       "      <td>-1.386</td>\n",
       "      <td>2.59</td>\n",
       "      <td>2.111</td>\n",
       "      <td>2.09</td>\n",
       "      <td>-3.521</td>\n",
       "    </tr>\n",
       "  </tbody>\n",
       "</table>\n",
       "</div>"
      ],
      "text/plain": [
       "                   time  AT_windspeed  AT_temperature  CH_windspeed  \\\n",
       "0  2008-01-01T00:00:00Z          2.71          -5.437          1.93   \n",
       "1  2008-01-01T01:00:00Z          2.72          -5.631          1.96   \n",
       "2  2008-01-01T02:00:00Z          2.69          -5.799          1.94   \n",
       "3  2008-01-01T03:00:00Z          2.67          -5.931          1.99   \n",
       "4  2008-01-01T04:00:00Z          2.61          -6.110          2.04   \n",
       "\n",
       "   CH_temperature  DE_windspeed  DE_temperature  NL_windspeed  NL_temperature  \\\n",
       "0          -5.786      2.022659          -0.935          1.78           2.603   \n",
       "1          -6.052      1.932107          -1.033          1.94           2.495   \n",
       "2          -6.190      1.888118          -1.126          2.21           2.351   \n",
       "3          -6.395      1.889439          -1.255          2.44           2.204   \n",
       "4          -6.636      1.879193          -1.386          2.59           2.111   \n",
       "\n",
       "   PL_windspeed  PL_temperature  \n",
       "0          2.27          -3.147  \n",
       "1          2.21          -3.236  \n",
       "2          2.16          -3.330  \n",
       "3          2.12          -3.430  \n",
       "4          2.09          -3.521  "
      ]
     },
     "execution_count": 4,
     "metadata": {},
     "output_type": "execute_result"
    }
   ],
   "source": [
    "weather_data.head()"
   ]
  },
  {
   "cell_type": "code",
   "execution_count": 5,
   "metadata": {},
   "outputs": [],
   "source": [
    "# 先将日期字符串格式转换标准\n",
    "load_data['time'] = load_data['time'].apply(lambda x: x[0:10]+' '+x[11:19])\n",
    "weather_data['time'] = weather_data['time'].apply(lambda x: x[0:10]+' '+x[11:19])\n",
    "# 讲日期 str 转换为 datetime\n",
    "load_data['time'] = pd.to_datetime(load_data['time'])\n",
    "weather_data['time'] = pd.to_datetime(weather_data['time'])"
   ]
  },
  {
   "cell_type": "markdown",
   "metadata": {},
   "source": [
    "---"
   ]
  },
  {
   "cell_type": "markdown",
   "metadata": {},
   "source": [
    "# 生成各个国家的数据集"
   ]
  },
  {
   "cell_type": "code",
   "execution_count": 6,
   "metadata": {},
   "outputs": [],
   "source": [
    "file_path = os.getcwd() # 当前文件路径"
   ]
  },
  {
   "cell_type": "markdown",
   "metadata": {},
   "source": [
    "## 澳大利亚数据集"
   ]
  },
  {
   "cell_type": "code",
   "execution_count": 7,
   "metadata": {},
   "outputs": [],
   "source": [
    "# 新建一个空表\n",
    "AT_data = pd.DataFrame(columns=[\"time\", \"load\", \"temperature\", \"windspeed\"])\n",
    "AT_data['time'] = load_data['time']\n",
    "AT_data['load'] = load_data['AT']\n",
    "AT_data['temperature'] = weather_data['AT_temperature']\n",
    "AT_data['windspeed'] = weather_data['AT_windspeed']"
   ]
  },
  {
   "cell_type": "code",
   "execution_count": 8,
   "metadata": {},
   "outputs": [],
   "source": [
    "# 写入文件\n",
    "AT_data.to_csv(file_path+'/AT_data.csv', index = 0)"
   ]
  },
  {
   "cell_type": "markdown",
   "metadata": {},
   "source": [
    "## 瑞士数据集"
   ]
  },
  {
   "cell_type": "code",
   "execution_count": 9,
   "metadata": {},
   "outputs": [],
   "source": [
    "CH_data = pd.DataFrame(columns=[\"time\", \"load\", \"temperature\", \"windspeed\"])\n",
    "CH_data['time'] = load_data['time']\n",
    "CH_data['load'] = load_data['CH']\n",
    "CH_data['temperature'] = weather_data['CH_temperature']\n",
    "CH_data['windspeed'] = weather_data['CH_windspeed']\n",
    "# 写入文件\n",
    "CH_data.to_csv(file_path+'/CH_data.csv', index = 0)"
   ]
  },
  {
   "cell_type": "markdown",
   "metadata": {},
   "source": [
    "## 德国数据集"
   ]
  },
  {
   "cell_type": "code",
   "execution_count": 10,
   "metadata": {},
   "outputs": [],
   "source": [
    "DE_data = pd.DataFrame(columns=[\"time\", \"load\", \"temperature\", \"windspeed\"])\n",
    "DE_data['time'] = load_data['time']\n",
    "DE_data['load'] = load_data['DE']\n",
    "DE_data['temperature'] = weather_data['DE_temperature']\n",
    "DE_data['windspeed'] = weather_data['DE_windspeed']\n",
    "# 写入文件\n",
    "DE_data.to_csv(file_path+'/DE_data.csv', index = 0)"
   ]
  },
  {
   "cell_type": "markdown",
   "metadata": {},
   "source": [
    "## 荷兰数据集"
   ]
  },
  {
   "cell_type": "code",
   "execution_count": 11,
   "metadata": {},
   "outputs": [],
   "source": [
    "NL_data = pd.DataFrame(columns=[\"time\", \"load\", \"temperature\", \"windspeed\"])\n",
    "NL_data['time'] = load_data['time']\n",
    "NL_data['load'] = load_data['NL']\n",
    "NL_data['temperature'] = weather_data['NL_temperature']\n",
    "NL_data['windspeed'] = weather_data['NL_windspeed']\n",
    "# 写入文件\n",
    "NL_data.to_csv(file_path+'/NL_data.csv', index = 0)"
   ]
  },
  {
   "cell_type": "markdown",
   "metadata": {},
   "source": [
    "## 波兰数据集"
   ]
  },
  {
   "cell_type": "code",
   "execution_count": 12,
   "metadata": {},
   "outputs": [],
   "source": [
    "PL_data = pd.DataFrame(columns=[\"time\", \"load\", \"temperature\", \"windspeed\"])\n",
    "PL_data['time'] = load_data['time']\n",
    "PL_data['load'] = load_data['PL']\n",
    "PL_data['temperature'] = weather_data['PL_temperature']\n",
    "PL_data['windspeed'] = weather_data['PL_windspeed']\n",
    "# 写入文件\n",
    "PL_data.to_csv(file_path+'/PL_data.csv', index = 0)"
   ]
  },
  {
   "cell_type": "markdown",
   "metadata": {},
   "source": [
    "------------------"
   ]
  },
  {
   "cell_type": "code",
   "execution_count": 13,
   "metadata": {},
   "outputs": [
    {
     "data": {
      "text/plain": [
       "<AxesSubplot:>"
      ]
     },
     "execution_count": 13,
     "metadata": {},
     "output_type": "execute_result"
    },
    {
     "data": {
      "image/png": "[encoded data removed]",
      "text/plain": [
       "<Figure size 432x288 with 1 Axes>"
      ]
     },
     "metadata": {
      "needs_background": "light"
     },
     "output_type": "display_data"
    }
   ],
   "source": [
    "PL_data['load'].plot()"
   ]
  },
  {
   "cell_type": "code",
   "execution_count": 14,
   "metadata": {},
   "outputs": [
    {
     "data": {
      "text/plain": [
       "<AxesSubplot:>"
      ]
     },
     "execution_count": 14,
     "metadata": {},
     "output_type": "execute_result"
    },
    {
     "data": {
      "image/png": "[encoded data removed]",
      "text/plain": [
       "<Figure size 432x288 with 1 Axes>"
      ]
     },
     "metadata": {
      "needs_background": "light"
     },
     "output_type": "display_data"
    }
   ],
   "source": [
    "PL_data['temperature'].plot()\n",
    "PL_data['windspeed'].plot()"
   ]
  }
 ],
 "metadata": {
  "kernelspec": {
   "display_name": "Python 3",
   "language": "python",
   "name": "python3"
  },
  "language_info": {
   "codemirror_mode": {
    "name": "ipython",
    "version": 3
   },
   "file_extension": ".py",
   "mimetype": "text/x-python",
   "name": "python",
   "nbconvert_exporter": "python",
   "pygments_lexer": "ipython3",
   "version": "3.8.5"
  }
 },
 "nbformat": 4,
 "nbformat_minor": 4
}
